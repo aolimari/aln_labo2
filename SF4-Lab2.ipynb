{
  "metadata": {
    "kernelspec": {
      "name": "python",
      "display_name": "Python (Pyodide)",
      "language": "python"
    },
    "language_info": {
      "codemirror_mode": {
        "name": "python",
        "version": 3
      },
      "file_extension": ".py",
      "mimetype": "text/x-python",
      "name": "python",
      "nbconvert_exporter": "python",
      "pygments_lexer": "ipython3",
      "version": "3.8"
    }
  },
  "nbformat_minor": 4,
  "nbformat": 4,
  "cells": [
    {
      "cell_type": "markdown",
      "source": "# Laboratoire no 2 - Transition avec des états absorbants\n",
      "metadata": {}
    },
    {
      "cell_type": "markdown",
      "source": "Écrivez les noms des personnes de votre équipe et exécutez le prochain bloc de commandes qui charge les bibliothèques nécessaires pour ce laboratoire.",
      "metadata": {}
    },
    {
      "cell_type": "code",
      "source": "from numpy import matrix\nfrom numpy import linalg\nimport random\nrandom.seed(52)\n\nnom1= \"Andy Rayan Tchoupou Diffo\"\nnom2= \"Cristobal Zuniga Solis\"\n\nprint(\"Ce travail est fait par\",nom1)\nif nom2 != \" \" :\n    print(\"et\", nom2,\".\")\n",
      "metadata": {
        "trusted": true
      },
      "outputs": [
        {
          "name": "stdout",
          "text": "Ce travail est fait par Andy Rayan Tchoupou Diffo\net Cristobal Zuniga Solis .\n",
          "output_type": "stream"
        }
      ],
      "execution_count": 3
    },
    {
      "cell_type": "markdown",
      "source": "# Problème de la marche de l'ivrogne",
      "metadata": {}
    },
    {
      "cell_type": "markdown",
      "source": "Commençons avec le problème de la **marche de l'ivrogne**.\nPour se rendre chez lui, un ivrogne doit parcourir 5 mètres sur un trottoir large de 2 mètres. À gauche du trottoir il y a un mur et à droite du trottoir il y a la rue. Si l'ivrogne est sur le côté gauche du trottoir, il y une chance sur deux d'avancer et de rester sur le côté gauche et une chance sur deux d'avancer et de se rendre sur le côté droit. S'il est sur le côté droit du trottoir, il a une chance sur trois d'avancer et d'aller sur le côté gauche, une chance sur trois d'avancer et de rester sur le côté droit et une chance sur trois de tomber dans la rue et de s'endromir.\n\nS'il part du côté gauche du trottoir, quelle est la probabilité qu'il avance de 5 mètres sans tomber dans la rue ?\n\nPosons:\n- État 1: Coté gauche du trottoir,\n- État 2: Côté droit du trottoir et\n- État 3: La rue.\n\nVoici la matrice de transition.\n$$T=\\begin{bmatrix}\\frac{1}{2}&\\frac{1}{3}&0\\\\\\frac{1}{2}&\\frac{1}{3}&0\\\\0&\\frac{1}{3}&1\\end{bmatrix}$$\nCommençons par 100 simulations.",
      "metadata": {}
    },
    {
      "cell_type": "code",
      "source": "n = 100 # n nb de simulations\naffiche=\":\"\nnum=0\nfor i in range(n):\n    trajet=\"G\"\n    for j in range(5):\n        alea=random.random()\n        if trajet[-1]==\"G\":\n            if alea<=1/2:\n                trajet=trajet+\"G\"\n            else:\n                trajet=trajet+\"D\"\n        elif trajet[-1]==\"D\":\n            if alea<=1/3:\n                trajet=trajet+\"G\"\n            elif alea<=2/3:\n                trajet=trajet+\"D\"\n            else:\n                trajet=trajet+\"R\"\n    affiche=affiche+trajet+\":\"\n    if trajet[-1]==\"G\" or trajet[-1]==\"D\":\n        num = num +1\nprint(affiche)\nratio = num/n\n    \nprint (\"Dans les simulations, l'ivrogne est resté sur le trottoir:\",100*ratio,\"% des fois.\")",
      "metadata": {
        "trusted": true
      },
      "outputs": [
        {
          "name": "stdout",
          "text": ":GDGDDR:GGDGDD:GGGDGG:GGGGGG:GDDR:GDDR:GGDDGG:GGDR:GGGDDD:GGGGGD:GGDDDR:GDGDR:GGDR:GDR:GGDGDR:GGGGDG:GDDDR:GGGDR:GDR:GDGDGD:GDR:GDGGGG:GGDGGD:GGDR:GDR:GDR:GGDR:GDGDR:GGGGGD:GDGDR:GGDR:GDR:GDGGDR:GGGDDG:GDGGGG:GDR:GGDR:GGDGGD:GDR:GDGDDR:GGDR:GGGGGD:GDDDDG:GDDGGG:GDGGDG:GDGGGG:GDGDR:GDR:GDGGDD:GDR:GGDDGG:GDGGDR:GDDGDD:GGDGGD:GDGGDR:GDDR:GGGDDD:GGGGGG:GDDGDD:GGGDR:GGDDDG:GGGGGD:GDDGGG:GGGDR:GDR:GDGDDR:GDDDGD:GGDGDR:GGGGDG:GDR:GGDR:GGGDGG:GDDGDR:GGDR:GDR:GGGDDD:GGGGGG:GDDR:GDGDGD:GGGGDR:GGGGGG:GGDR:GDDDGD:GGGDGG:GGGDR:GDGDGG:GDDR:GGGDR:GDR:GGDDDG:GDR:GDDGGD:GDR:GGGDR:GDR:GDGDR:GDGDGG:GDGDGD:GGDR:GDR:\nDans les simulations, l'ivrogne est resté sur le trottoir: 43.0 % des fois.\n",
          "output_type": "stream"
        }
      ],
      "execution_count": 2
    },
    {
      "cell_type": "markdown",
      "source": "Voici un code qui calcule la probabilité à partir d'une matrice de transition.\n$$P^{(5)}=T^5P^{(0)}$$",
      "metadata": {}
    },
    {
      "cell_type": "code",
      "source": "n= 5 #n est la longueur de la marche\nP=matrix([[1],\n          [0],\n          [0]])\nT=matrix([[1/2,1/3,0],\n          [1/2,1/3,0],\n          [0,1/3,1]])\nP=T**n*P\nprint(P)    \nprint(P.item(0,0)+P.item(1,0))\n\n",
      "metadata": {
        "trusted": true
      },
      "outputs": [
        {
          "name": "stdout",
          "text": "[[0.24112654]\n [0.24112654]\n [0.51774691]]\n0.482253086419753\n",
          "output_type": "stream"
        }
      ],
      "execution_count": 13
    },
    {
      "cell_type": "markdown",
      "source": "**Conclusion**\nL'ivrogne a une probabilité de rester sur le trottoir de 57,87%.",
      "metadata": {}
    },
    {
      "cell_type": "markdown",
      "source": "## À votre tour\nRefaites le problème de l'ivrogne si le troittoir est large de 4 mètres et qu'il doit parcourir 10 mètres sans tomber dans la rue. S'il est à gauche, il a une chance sur deux d'avancer et de rester à gauche sinon il avance en se tassant d'un mètre à droite. Pour les deux positions au centre du trottoir, il a une chance sur trois d'avancer en se tassant d'un mètre à gauche, une chance sur trois d'avancer et de rester à la même position et une chance sur trois d'avancer en se tassant d'un mètre à droite. Pour la position la plus à droite, il a une chance sur trois d'avancer en se tassant d'un mètre à gauche, une chance sur trois d'avancer et de rester à la même position et une chance sur trois de tomber dans la rue.",
      "metadata": {}
    },
    {
      "cell_type": "markdown",
      "source": "Définissez vos états ici.",
      "metadata": {}
    },
    {
      "cell_type": "code",
      "source": "# Écrivez vos calculs ici.\n\nn = 10 # Longueur de la marche\n\nP1 = matrix([[1],\n             [0],\n             [0],\n             [0],\n             [0]]) \n\nT1 = matrix([[1/2, 1/3, 0  , 0  , 0  ],\n             [1/2, 1/3, 1/3, 0  , 0  ],\n             [0  , 1/3, 1/3, 1/3, 0  ],\n             [0  , 0  , 1/3, 1/3, 0  ],\n             [0  , 0  , 0  , 1/3, 1  ]])\n\nP = T1 ** n * P1\nprint(P)   \nprint(P.item(0,0)+P.item(1,0)+P.item(2,0)+P.item(3,0))",
      "metadata": {
        "trusted": true
      },
      "outputs": [
        {
          "name": "stdout",
          "text": "[[0.19968518]\n [0.26896827]\n [0.19975111]\n [0.10552352]\n [0.22607191]]\n0.7739280883249504\n",
          "output_type": "stream"
        }
      ],
      "execution_count": 16
    },
    {
      "cell_type": "markdown",
      "source": "**Conclusion**\nL'ivrogne a une probabilité de rester sur le trottoir de 77,37%.",
      "metadata": {}
    },
    {
      "cell_type": "markdown",
      "source": "Quelle est la longueur maximale qu'un ivrogne peut parcourir sur un trottoir de 4 mètres de large en partant à gauche et d'avoir moins de 90% de tomber dans la rue ?\n\nJe m'attends à de l'essai-erreur pour trouver la réponse.",
      "metadata": {}
    },
    {
      "cell_type": "code",
      "source": "P10 = T1 ** 10 * P1\nP10prob = P10.item(4,0)\nprint(P10prob)\n\nP30 = T1 ** 30 * P1\nP30prob = P30.item(4,0)\nprint(P30prob)\n\nP45 = T1 ** 45 * P1\nP45prob = P45.item(4,0)\nprint(P45prob)\n\nP55 = T1 ** 55 * P1\nP55prob = P55.item(4,0)\nprint(P55prob)\n\nP52 = T1 ** 52 * P1\nP52prob = P52.item(4,0)\nprint(P52prob)",
      "metadata": {
        "trusted": true
      },
      "outputs": [
        {
          "name": "stdout",
          "text": "0.22607191167504948\n0.7019267084044223\n0.8547066285884134\n0.9100100349992405\n0.8961014232191427\n",
          "output_type": "stream"
        }
      ],
      "execution_count": 43
    },
    {
      "cell_type": "raw",
      "source": "Il peut marcher 52m avant d'avoir plus de 90% de chances d'être dans la rue.",
      "metadata": {}
    },
    {
      "cell_type": "markdown",
      "source": "# Pile ou Face.",
      "metadata": {}
    },
    {
      "cell_type": "markdown",
      "source": "Deux personnes A et B jouent à un jeu. A lance une pièce, si c'est Face A gagne, sinon A donne la pièce à B qui tire à son tour. Si c'est pile, B gagne, sinon B redonne la pièce à A et ça recommence. Ce jeu ne semble pas équitable, car A commence.\n\nCommençons par 100 simulations. Exécutez le code suivant.",
      "metadata": {}
    },
    {
      "cell_type": "code",
      "source": "n = 100 #nb de simulations\ngain=[0,0]\nfor i in range(n):\n    fin = False\n    joueur=0\n    while not(fin):\n        tir=random.randrange(2)\n        if tir==joueur:\n            gain[tir]+=1\n            fin=True\n        joueur=1-joueur\nprint(\"Le joueur A a gagné\",gain[0],\" fois et le joueur B a gagné\",gain[1], \"fois.\")\n",
      "metadata": {
        "trusted": true
      },
      "outputs": [
        {
          "name": "stdout",
          "text": "Le joueur A a gagné 70  fois et le joueur B a gagné 30 fois.\n",
          "output_type": "stream"
        }
      ],
      "execution_count": 8
    },
    {
      "cell_type": "markdown",
      "source": "On peut décrire le jeu avec 4 états: \n- État 1: A joue\n- État 2: B joue\n- État 3: A gagne\n- État 4: B gagne.\n\nVoici la matrice de transition de cette situation.\n$$T=\\begin{bmatrix}0&\\frac{1}{2}&0&0\\\\\\frac{1}{2}&0&0&0\\\\\\frac{1}{2}&0&1&0\\\\0&\\frac{1}{2}&0&1\\end{bmatrix}$$\nLa méthode vue en classe ne fonctionne pas, car ce n'est pas un état stationnaire qu'on cherche.\nLe but est de déterminer la probabilité de gagner des deux joueurs.\nPosons:\n- $x_1$ la probabilité que A gagne si on est à l'état 1 et\n- $x_2$ la probabilité que A gagne si on est à l'état 2.\n\nEssayons de construire un système à deux équations et deux inconnus pour trouver la solution.\n\nSi on est à l'état 1, on peut aller à l'état 3 (A gagne) avec une probabilité 1/2 ou aller à l'état 2 avec une probabilité de 1/2 et A gagne avec une probabilité de $x_2$. \n\nDonc la probabilité que A gagne à partir de l'état 1 ($x_1$) est 1/2 (si A tire Face) + (1/2)$(x_2)$ (si A tire Pile). Bref:\n$$x_1=\\frac{1}{2}+\\frac{1}{2}x_2$$\nDe même, la probabilité que A gagne à partir de l'état 2 ($x_2$) est $\\frac{1}{2}\\times 0$ (si B tire pile) + (1/2)$(x_1)$ (si B tire Face). Bref:\n$$x_2=\\frac{1}{2}x_1$$\n\nSi on traduit en système d'équations linéaires, on a:\n$$\\left \\{\n\\begin{array}{c @{} c}\n    x_1& - & \\frac{1}{2}x_2 & = &\\frac{1}{2} \\\\\n    \\frac{1}{2}x_1 &- & x_2 & = &0\n\\end{array}\n\\right.$$\n\nExécutez le prochain bloc de commandes qui va résoudre ce système d'équations par la matrice inverse.",
      "metadata": {}
    },
    {
      "cell_type": "code",
      "source": "#A est la matrice des coefficients\nA= matrix([[1,-1/2],\n           [1/2,-1]]) \n#B est la martrice des constantes\nB= matrix([[1/2],\n           [0]])\nX=A**(-1)*B\nprint(X)",
      "metadata": {
        "trusted": true
      },
      "outputs": [
        {
          "name": "stdout",
          "text": "[[0.66666667]\n [0.33333333]]\n",
          "output_type": "stream"
        }
      ],
      "execution_count": 31
    },
    {
      "cell_type": "markdown",
      "source": "### Conclusion\nComme on commençait à l'état 1 (le joueur A commence à tirer), la probabilité que le joueur A gagne est 2/3.",
      "metadata": {}
    },
    {
      "cell_type": "markdown",
      "source": "# À votre tour\nVoici une nouvelle situation. Il y a deux joueurs: A et B. On tire à pile ou face jusqu'à temps qu'un joueur gagne. A gagne si on a tiré a deux faces consécutivement, B gagne si on a tiré 3 piles consécutivement. Vous devez calculer la probabilité que A gagne.",
      "metadata": {}
    },
    {
      "cell_type": "markdown",
      "source": "Écrivez vos états ici.\n*Indice: Vous avez besoin d'au moins 5 états.*",
      "metadata": {}
    },
    {
      "cell_type": "code",
      "source": "#Écrivez votre matrice de transition ici.",
      "metadata": {
        "trusted": true
      },
      "outputs": [],
      "execution_count": 32
    },
    {
      "cell_type": "markdown",
      "source": "Définissez vos variables et écrivez vos équations ici.",
      "metadata": {}
    },
    {
      "cell_type": "code",
      "source": "#Écrivez vos calculs ici pour résoudre votre système d'équations ici.",
      "metadata": {
        "trusted": true
      },
      "outputs": [],
      "execution_count": null
    },
    {
      "cell_type": "markdown",
      "source": "Écrivez votre réponse ici.",
      "metadata": {}
    }
  ]
}
